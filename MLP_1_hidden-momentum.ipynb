{
 "cells": [
  {
   "cell_type": "markdown",
   "metadata": {},
   "source": [
    "# Implementação MLP para dataset"
   ]
  },
  {
   "cell_type": "code",
   "execution_count": 6,
   "metadata": {},
   "outputs": [],
   "source": [
    "# Função de ativação Logit\n",
    "\n",
    "def f_net(activation):\n",
    "     return 1.0 / (1.0 + np.exp(-activation))"
   ]
  },
  {
   "cell_type": "code",
   "execution_count": 7,
   "metadata": {},
   "outputs": [],
   "source": [
    "# Derivada da Logit\n",
    "\n",
    "def f_prime_net(f_net):\n",
    "    return f_net*(1-f_net)"
   ]
  },
  {
   "cell_type": "code",
   "execution_count": 8,
   "metadata": {},
   "outputs": [],
   "source": [
    "# Etapa Foward\n",
    "\n",
    "def f_Forward(Xp,w_hidden_layer,w_output_layer,net_hidden,fnet_hidden,net_out, fnet_out,n_hidden):\n",
    "    # Camada oculta\n",
    "    net_hidden  = np.sum(w_hidden_layer*Xp,axis=1)\n",
    "    fnet_hidden = f_net(net_hidden)\n",
    "    f_prime_hp = f_prime_net(fnet_hidden)\n",
    "    # Camada de saída\n",
    "    net_out = np.sum(np.r_[fnet_hidden, 1]*w_output_layer,axis=1)\n",
    "    fnet_out =  f_net(net_out)\n",
    "    f_prime_op = f_prime_net(fnet_out)\n",
    "    \n",
    "    return net_hidden, fnet_hidden, net_out, fnet_out, f_prime_op, f_prime_hp\n",
    "\n"
   ]
  },
  {
   "cell_type": "code",
   "execution_count": 20,
   "metadata": {},
   "outputs": [],
   "source": [
    "# Backpropagation\n",
    "\n",
    "def mlp_backpropagation(X,Y,n_inputs,n_hidden,n_outputs ,eta ,epoch,alpha):\n",
    "    # Vetor de entrada com acréscimo de coluna para bias\n",
    "    Xp = np.concatenate((X, np.reshape(np.ones(len(X)),(len(X),1))), axis=1)\n",
    "\n",
    "    # Inicialização dos pesos de forma aleatória\n",
    "    var_w_hidden = w_hidden_layer_ant =  w_hidden_layer = np.array([[random.uniform(-0.5,0.5) for i in range(n_inputs+1)] for i in range(n_hidden)])\n",
    "    var_w_output = w_output_layer_ant =  w_output_layer = np.array([[random.uniform(-0.5,0.5) for i in range(n_hidden+1)]     for i in range(n_outputs)])\n",
    "\n",
    "    ## Hidden Layer\n",
    "    net_hidden  = np.zeros(w_hidden_layer.shape)\n",
    "    fnet_hidden = np.zeros(w_hidden_layer.shape)\n",
    "\n",
    "    ## Output Layer\n",
    "    net_out  = np.zeros(n_outputs)\n",
    "    fnet_out = np.zeros(n_outputs)\n",
    "    # Vetor de saída da hidden com acréscimo de coluna para bias\n",
    "\n",
    "    counter = 0\n",
    "    \n",
    "    while counter <= epoch :\n",
    "        squaredError = 0\n",
    "        for i in range(len(X)):\n",
    "            net_hidden, fnet_hidden, net_out, fnet_out, f_prime_op, f_prime_hp = f_Forward(Xp[i],w_hidden_layer,w_output_layer,net_hidden,fnet_hidden,net_out, fnet_out,n_hidden)\n",
    "\n",
    "          \n",
    "            error = Y[i] - fnet_out\n",
    "            squaredError = squaredError + np.sum(error**2)\n",
    "\n",
    "            #Cálculo dos deltas\n",
    "            delta_op  = error * f_prime_op        \n",
    "            w_o_kj    = w_output_layer[:,0:w_output_layer.shape[1]-1]\n",
    "            delta_h_p = f_prime_hp*np.dot(w_o_kj.T,delta_op)\n",
    "\n",
    "            #Treinamento\n",
    "            w_output_layer = w_output_layer + eta * np.dot(  np.reshape(delta_op,(len(w_output_layer),1)), np.reshape(np.r_[fnet_hidden,1],(1,n_hidden+1))) + alpha * var_w_output\n",
    "            w_hidden_layer = w_hidden_layer + eta * np.dot(np.reshape(delta_h_p,(n_hidden,1)),np.reshape(Xp[i],(1,len(X[0])+1))) + alpha * var_w_hidden\n",
    "            \n",
    "            # Calculo do momento\n",
    "            var_w_output = w_output_layer - w_output_layer_ant\n",
    "            w_output_layer_ant = w_output_layer.copy()\n",
    "            \n",
    "            var_w_hidden = w_hidden_layer - w_hidden_layer_ant\n",
    "            w_hidden_layer_ant = w_hidden_layer.copy()\n",
    "      \n",
    "            \n",
    "        squaredError = squaredError / len(X)\n",
    "        print(squaredError)\n",
    "        counter = counter + 1\n",
    "    \n",
    "    return  squaredError , w_output_layer, w_hidden_layer, fnet_out"
   ]
  },
  {
   "cell_type": "code",
   "execution_count": 10,
   "metadata": {},
   "outputs": [],
   "source": [
    "# Predição de novos dados\n",
    "\n",
    "def f_predict(Xp,w_hidden_layer,w_output_layer):\n",
    "\n",
    "    return  np.round(f_net(np.sum(np.r_[f_net(np.sum(w_hidden_layer*Xp.T,axis=1)), 1]*w_output_layer,axis=1)))\n",
    "\n",
    "     \n",
    "    \n"
   ]
  },
  {
   "cell_type": "code",
   "execution_count": 21,
   "metadata": {},
   "outputs": [
    {
     "name": "stdout",
     "output_type": "stream",
     "text": [
      "0.7964423260004194\n",
      "0.7473951342429703\n",
      "0.7099591336483712\n",
      "0.6815847476403972\n",
      "0.6596053404783473\n",
      "0.6419855131669091\n",
      "0.6272870459733252\n",
      "0.6145336328442627\n",
      "0.6030766758829804\n",
      "0.5924912722659138\n",
      "0.5825028444497455\n",
      "0.5729372784561518\n",
      "0.5636873675357295\n",
      "0.5546901355501891\n",
      "0.5459113632306475\n",
      "0.5373349326227836\n",
      "0.5289554615619634\n",
      "0.5207732389239405\n",
      "0.5127908025124668\n",
      "0.5050107047059494\n",
      "0.49743413875397363\n",
      "0.4900601829554986\n",
      "0.4828854793885211\n",
      "0.47590420849185405\n",
      "0.4691082558187682\n",
      "0.4624874952595354\n",
      "0.4560301352729431\n",
      "0.4497230919625619\n",
      "0.4435523658018454\n",
      "0.4375034080408789\n",
      "0.43156146890518293\n",
      "0.4257119232108446\n",
      "0.4199405705541612\n",
      "0.414233907372649\n",
      "0.4085793675081533\n",
      "0.40296552701878346\n",
      "0.3973822684324214\n",
      "0.39182089985367974\n",
      "0.38627422558403457\n",
      "0.3807365671875071\n",
      "0.37520373694525117\n",
      "0.36967296887490586\n",
      "0.36414281532676945\n",
      "0.3586130190599348\n",
      "0.35308437132060655\n",
      "0.3475585657654184\n",
      "0.3420380563488642\n",
      "0.3365259249590876\n",
      "0.331025762116351\n",
      "0.32554156184361543\n",
      "0.3200776301339425\n",
      "0.31463850537172605\n",
      "0.30922888858076397\n",
      "0.30385358135535584\n",
      "0.2985174296286943\n",
      "0.2932252718946725\n",
      "0.28798189099878585\n",
      "0.2827919690615826\n",
      "0.2776600454436212\n",
      "0.2725904778882639\n",
      "0.267587407097923\n",
      "0.26265472503573295\n",
      "0.25779604722776883\n",
      "0.25301468929675175\n",
      "0.24831364790401944\n",
      "0.24369558622015514\n",
      "0.239162823986308\n",
      "0.23471733216426796\n",
      "0.23036073209998062\n",
      "0.2260942990412745\n",
      "0.22191896975869155\n",
      "0.21783535392458775\n",
      "0.2138437488182185\n",
      "0.20994415685174392\n",
      "0.20613630536096353\n",
      "0.20241966807938896\n",
      "0.1987934877162379\n",
      "0.19525679908622615\n",
      "0.19180845228754706\n",
      "0.18844713548848818\n",
      "0.18517139695656978\n",
      "0.18197966604098978\n",
      "0.17887027289441187\n",
      "0.17584146678984097\n",
      "0.17289143294986373\n",
      "0.1700183078574739\n",
      "0.1672201930596288\n",
      "0.1644951675069818\n",
      "0.16184129849679485\n",
      "0.15925665130200903\n",
      "0.15673929757917085\n",
      "0.15428732265262404\n",
      "0.1518988317732696\n",
      "0.14957195544826885\n",
      "0.1473048539341828\n",
      "0.14509572098087226\n",
      "0.14294278690755532\n",
      "0.1408443210861424\n",
      "0.13879863390061054\n",
      "0.13680407824495894\n",
      "0.13485905061632905\n"
     ]
    }
   ],
   "source": [
    "import numpy as np\n",
    "from math import exp\n",
    "import random\n",
    "import pandas as pd\n",
    "#tratamentos de dataframes\n",
    "from sklearn import preprocessing\n",
    "from sklearn.model_selection import train_test_split\n",
    "\n",
    "random.seed(123)\n",
    "\n",
    "# Importação do conjunto de dados Wine sem cabeçalho\n",
    "df = pd.read_csv(\"/home/jovyan/MLPxRBF/wine.csv\",delimiter=',',header=None)\n",
    "\n",
    "# Nomeação das colunas\n",
    "dict_colnames = {\n",
    "0: 'type',\n",
    "1: 'alcohol',\n",
    "2: 'malic_acid',\n",
    "3: 'ash',\n",
    "4: 'alcalinity_ash',\n",
    "5: 'magnesium',\n",
    "6: 'total_phenols',\n",
    "7: 'flavanoids',\n",
    "8: 'nonflavanoid_phenols',\n",
    "9: 'proanthocyanins',\n",
    "10: 'color_intensity',\n",
    "11: 'hue',\n",
    "12: 'OD280_OD315_diluted_wines',\n",
    "13: 'proline'\n",
    "   }\n",
    "    \n",
    "df = df.rename(columns= dict_colnames)\n",
    "\n",
    "# Criação do vetor de base canônica\n",
    "df['p1'] = np.where(df['type']==1, 1, 0)\n",
    "df['p2'] = np.where(df['type']==2, 1, 0)\n",
    "df['p3'] = np.where(df['type']==3, 1, 0)\n",
    "\n",
    "# Separação entre dados de treino e teste\n",
    "lista = ['type','p1','p2','p3']\n",
    "lista2 = ['p1','p2','p3']\n",
    "\n",
    "x_train, x_test, y_train, y_test = train_test_split(df.drop(lista, axis = 1), \n",
    "                                                    df[lista2], \n",
    "                                                    test_size = 0.3, \n",
    "                                                    random_state = random.seed(123))\n",
    "\n",
    "# Normalização dos dados\n",
    "x_scaled = preprocessing.scale(x_train)\n",
    "scaler = preprocessing.StandardScaler().fit(x_train)\n",
    "x_train_norm = scaler.transform(x_train)\n",
    "x_test_norm = scaler.transform(x_test)\n",
    "\n",
    "\n",
    "# Matriz para treinar a rede\n",
    "X = x_train_norm.copy()\n",
    "Y = np.array(y_train.copy())\n",
    "\n",
    "## Dimensões da Rede\n",
    "n_inputs = len(X[0])\n",
    "n_outputs = len(Y[0])\n",
    "n_hidden = 3\n",
    "\n",
    "\n",
    "Erro , w_output_layer, w_hidden_layer, fnet_out = \\\n",
    "    mlp_backpropagation(X,Y,n_inputs,n_hidden,n_outputs ,eta = 0.01,epoch=100,alpha = 0.3)\n"
   ]
  },
  {
   "cell_type": "code",
   "execution_count": 3,
   "metadata": {},
   "outputs": [],
   "source": [
    "    # Inicialização dos pesos de forma aleatória\n",
    "w_hidden_layer_ant =  w_hidden_layer = np.array([[random.uniform(-0.5,0.5) for i in range(n_inputs+1)] for i in range(n_hidden)])\n",
    "w_output_layer_ant =  w_output_layer = np.array([[random.uniform(-0.5,0.5) for i in range(n_hidden+1)]     for i in range(n_outputs)])"
   ]
  },
  {
   "cell_type": "code",
   "execution_count": 16,
   "metadata": {},
   "outputs": [
    {
     "data": {
      "text/plain": [
       "array([[-0.16308385, -0.10880669, -0.42670922, -0.04323293,  0.07316851,\n",
       "        -0.1638939 , -0.31093813, -0.41184271,  0.12831752, -0.48717089,\n",
       "        -0.14808632, -0.27087024,  0.03199749,  0.22366335],\n",
       "       [ 0.40915328,  0.13880084,  0.4917931 ,  0.46405917,  0.12999071,\n",
       "        -0.26662682, -0.01618852, -0.32241027,  0.49195777, -0.05550008,\n",
       "         0.25165016, -0.45587014, -0.3652724 , -0.30682303],\n",
       "       [-0.24363765, -0.14795247, -0.22807015, -0.06573142, -0.07964268,\n",
       "        -0.39137917, -0.43739123, -0.14493855, -0.4112111 , -0.06679969,\n",
       "        -0.49143879,  0.03580102, -0.42651601,  0.19420591]])"
      ]
     },
     "execution_count": 16,
     "metadata": {},
     "output_type": "execute_result"
    }
   ],
   "source": [
    "w_hidden_layer_ant"
   ]
  },
  {
   "cell_type": "code",
   "execution_count": 5,
   "metadata": {},
   "outputs": [
    {
     "data": {
      "text/plain": [
       "array([[-0.16308385, -0.10880669, -0.42670922, -0.04323293,  0.07316851,\n",
       "        -0.1638939 , -0.31093813, -0.41184271,  0.12831752, -0.48717089,\n",
       "        -0.14808632, -0.27087024,  0.03199749,  0.22366335],\n",
       "       [ 0.40915328,  0.13880084,  0.4917931 ,  0.46405917,  0.12999071,\n",
       "        -0.26662682, -0.01618852, -0.32241027,  0.49195777, -0.05550008,\n",
       "         0.25165016, -0.45587014, -0.3652724 , -0.30682303],\n",
       "       [-0.24363765, -0.14795247, -0.22807015, -0.06573142, -0.07964268,\n",
       "        -0.39137917, -0.43739123, -0.14493855, -0.4112111 , -0.06679969,\n",
       "        -0.49143879,  0.03580102, -0.42651601,  0.19420591]])"
      ]
     },
     "execution_count": 5,
     "metadata": {},
     "output_type": "execute_result"
    }
   ],
   "source": [
    "w_hidden_layer"
   ]
  },
  {
   "cell_type": "code",
   "execution_count": null,
   "metadata": {},
   "outputs": [],
   "source": []
  },
  {
   "cell_type": "code",
   "execution_count": null,
   "metadata": {},
   "outputs": [],
   "source": []
  },
  {
   "cell_type": "markdown",
   "metadata": {},
   "source": [
    "## Predito"
   ]
  },
  {
   "cell_type": "code",
   "execution_count": 30,
   "metadata": {},
   "outputs": [],
   "source": [
    "Xp = np.concatenate((x_test_norm, np.reshape(np.ones(len(x_test_norm)),(len(x_test_norm),1))), axis=1)"
   ]
  },
  {
   "cell_type": "code",
   "execution_count": 31,
   "metadata": {},
   "outputs": [],
   "source": [
    "Y_pred =  np.zeros(y_test.shape)\n",
    "for i in range(len(Xp[:,])):\n",
    "    Y_pred[i] = f_predict(Xp[i],w_hidden_layer,w_output_layer)"
   ]
  },
  {
   "cell_type": "code",
   "execution_count": 32,
   "metadata": {},
   "outputs": [
    {
     "data": {
      "text/plain": [
       "array([1, 0, 1, 1, 1, 0, 2, 0, 1, 1, 1, 0, 1, 0, 0, 2, 1, 2, 2, 2, 1, 2,\n",
       "       1, 1, 0, 2, 2, 1, 1, 0, 1, 1, 0, 1, 2, 1, 2, 2, 0, 1, 2, 1, 1, 0,\n",
       "       2, 1, 1, 2, 2, 0, 2, 0, 1, 1])"
      ]
     },
     "execution_count": 32,
     "metadata": {},
     "output_type": "execute_result"
    }
   ],
   "source": [
    "np.argmax(Y_pred,axis=1)"
   ]
  },
  {
   "cell_type": "markdown",
   "metadata": {},
   "source": [
    "## Real"
   ]
  },
  {
   "cell_type": "code",
   "execution_count": 33,
   "metadata": {},
   "outputs": [
    {
     "data": {
      "text/plain": [
       "array([1, 0, 1, 1, 1, 1, 2, 0, 1, 1, 2, 0, 1, 1, 1, 2, 1, 2, 2, 2, 1, 2,\n",
       "       1, 1, 0, 2, 2, 1, 1, 0, 1, 1, 0, 1, 1, 1, 2, 2, 1, 1, 2, 1, 1, 0,\n",
       "       2, 1, 1, 2, 2, 0, 2, 0, 1, 1])"
      ]
     },
     "execution_count": 33,
     "metadata": {},
     "output_type": "execute_result"
    }
   ],
   "source": [
    "np.argmax(np.array(y_test),axis=1)"
   ]
  },
  {
   "cell_type": "markdown",
   "metadata": {},
   "source": [
    "# MLP"
   ]
  },
  {
   "cell_type": "markdown",
   "metadata": {},
   "source": [
    "## Matriz de Confusão"
   ]
  },
  {
   "cell_type": "code",
   "execution_count": 34,
   "metadata": {},
   "outputs": [
    {
     "data": {
      "text/plain": [
       "array([[ 9,  0,  0],\n",
       "       [ 4, 24,  1],\n",
       "       [ 0,  1, 15]])"
      ]
     },
     "execution_count": 34,
     "metadata": {},
     "output_type": "execute_result"
    }
   ],
   "source": [
    "from sklearn.metrics import confusion_matrix\n",
    "confusion_matrix(np.argmax(np.array(y_test),axis=1), np.argmax(Y_pred,axis=1))"
   ]
  },
  {
   "cell_type": "markdown",
   "metadata": {},
   "source": [
    "## Acurácia"
   ]
  },
  {
   "cell_type": "code",
   "execution_count": 35,
   "metadata": {},
   "outputs": [
    {
     "data": {
      "text/plain": [
       "0.8888888888888888"
      ]
     },
     "execution_count": 35,
     "metadata": {},
     "output_type": "execute_result"
    }
   ],
   "source": [
    "from sklearn.metrics import accuracy_score\n",
    "accuracy_score(np.argmax(np.array(y_test),axis=1), np.argmax(Y_pred,axis=1))"
   ]
  },
  {
   "cell_type": "code",
   "execution_count": null,
   "metadata": {},
   "outputs": [],
   "source": []
  }
 ],
 "metadata": {
  "kernelspec": {
   "display_name": "Python 3",
   "language": "python",
   "name": "python3"
  },
  "language_info": {
   "codemirror_mode": {
    "name": "ipython",
    "version": 3
   },
   "file_extension": ".py",
   "mimetype": "text/x-python",
   "name": "python",
   "nbconvert_exporter": "python",
   "pygments_lexer": "ipython3",
   "version": "3.7.8"
  }
 },
 "nbformat": 4,
 "nbformat_minor": 4
}
