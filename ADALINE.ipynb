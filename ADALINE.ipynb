{
 "cells": [
  {
   "cell_type": "markdown",
   "metadata": {},
   "source": [
    "# Exercício 01 - Perceptron"
   ]
  },
  {
   "cell_type": "markdown",
   "metadata": {},
   "source": [
    "###### Aluno: Rodolfo Augusto da Silva Arruda - NUSP: 6381848 - rarruda@usp.br (Aluno Especial Doutorado)"
   ]
  },
  {
   "cell_type": "markdown",
   "metadata": {},
   "source": [
    "### Importação de módulos"
   ]
  },
  {
   "cell_type": "code",
   "execution_count": null,
   "metadata": {},
   "outputs": [],
   "source": [
    "import numpy as np\n",
    "from random import *\n",
    "import matplotlib.pyplot as plt\n",
    "plt.style.use('seaborn-whitegrid')\n",
    "plt.rcParams.update({'figure.figsize':(7,5), 'figure.dpi':100})\n",
    "%matplotlib inline"
   ]
  },
  {
   "cell_type": "markdown",
   "metadata": {},
   "source": [
    "### Montagem do conjunto de dados"
   ]
  },
  {
   "cell_type": "raw",
   "metadata": {},
   "source": [
    "# O conjunto de dados é composto por 12 arquivos no formato CSV, 6 As e 6 As invertidos.\n",
    "# Os arquivos com letra A estão armazenados em /home/jovyan/NN/A\n",
    "# Os arquivos com letra A invertiva estão armazenados em /home/jovyan/NN/A_INV\n",
    "# Após a leitura dos dados, foi realizada a criação dos arrays de treinamento (treino_final) e teste (teste_final), assim como a associação dos seus respectivos rótulos (treino_rotulo_final e teste_rotulo_final)"
   ]
  },
  {
   "cell_type": "code",
   "execution_count": 509,
   "metadata": {},
   "outputs": [],
   "source": [
    "# Rótulos\n",
    "Y  = {\"A1\" : 1,\"A2\" : 1,\"A3\" : 1, \"A4\": 1,\"A5\" : 1,\"A6\" : 1}\n",
    "YI = {\"AI1\":-1,\"AI2\":-1,\"AI3\":-1,\"AI4\":-1,\"AI5\":-1,\"AI6\":-1}\n",
    "\n",
    "# Dados de entrada\n",
    "\n",
    "## import exemplos A\n",
    "\n",
    "types = {\"A1\": \"/home/jovyan/NN/A/A1.csv\", \n",
    "         \"A2\": \"/home/jovyan/NN/A/A2.csv\", \n",
    "         \"A3\": \"/home/jovyan/NN/A/A3.csv\",\n",
    "         \"A4\": \"/home/jovyan/NN/A/A4.csv\",\n",
    "         \"A5\": \"/home/jovyan/NN/A/A5.csv\",\n",
    "         \"A6\": \"/home/jovyan/NN/A/A6.csv\"}\n",
    "A = {}\n",
    "\n",
    "for name, file in types.items():\n",
    "    A[name]=np.genfromtxt(file,delimiter=',')\n",
    "    #Transforma em array 1x25\n",
    "    A[name]=np.reshape(A[name], (1,25))\n",
    "    \n",
    "## Separação dos dados entre treino e teste\n",
    "\n",
    "A_treino = {}\n",
    "A_teste = {}\n",
    "Y_treino = {}\n",
    "Y_teste = {}\n",
    "\n",
    "amostra  = np.random.permutation([\"A1\", \"A2\", \"A3\", \"A4\", \"A5\",\"A6\"])\n",
    "treino_A = amostra[:4]\n",
    "teste_A  = amostra[4:]\n",
    "\n",
    "for elem in treino_A:\n",
    "    A_treino[elem]=A[elem]\n",
    "    Y_treino[elem]=Y[elem]\n",
    "    \n",
    "for elem in teste_A:\n",
    "    A_teste[elem]=A[elem]\n",
    "    Y_teste[elem]=Y[elem]\n",
    "    \n",
    "\n",
    "## import exemplos A invertido\n",
    "\n",
    "types = {\"AI1\": \"/home/jovyan/NN/A_INV/AI1.csv\", \n",
    "         \"AI2\": \"/home/jovyan/NN/A_INV/AI2.csv\", \n",
    "         \"AI3\": \"/home/jovyan/NN/A_INV/AI3.csv\",\n",
    "         \"AI4\": \"/home/jovyan/NN/A_INV/AI4.csv\",\n",
    "         \"AI5\": \"/home/jovyan/NN/A_INV/AI5.csv\",\n",
    "         \"AI6\": \"/home/jovyan/NN/A_INV/AI6.csv\"}\n",
    "AI = {}\n",
    "\n",
    "for name, file in types.items():\n",
    "    AI[name]=np.genfromtxt(file,delimiter=',')\n",
    "    #Transforma em array 1x25\n",
    "    AI[name]=np.reshape(AI[name], (1,25))\n",
    "    \n",
    "### Separação dos dados entre treino e teste\n",
    "  \n",
    "AI_treino = {}\n",
    "AI_teste = {}\n",
    "YI_treino = {}\n",
    "YI_teste = {}\n",
    "\n",
    "amostra = np.random.permutation([\"AI1\", \"AI2\", \"AI3\", \"AI4\", \"AI5\",\"AI6\"])\n",
    "treino_AI = amostra[:4]\n",
    "teste_AI  = amostra[4:]\n",
    "\n",
    "for elem in treino_AI:\n",
    "    AI_treino[elem]=AI[elem]\n",
    "    YI_treino[elem]=YI[elem]\n",
    "    \n",
    "for elem in teste_AI:\n",
    "    AI_teste[elem]=AI[elem]\n",
    "    YI_teste[elem]=YI[elem]\n",
    "    \n",
    "    \n",
    "# Dados finais para treino e teste\n",
    "\n",
    "### Conjunto de dados treino\n",
    "treino_final = {}\n",
    "X = []\n",
    "\n",
    "for d in [A_treino,AI_treino]:\n",
    "    treino_final.update(d)\n",
    "\n",
    "for elem in treino_final.keys():\n",
    "    X = np.append(X,treino_final[elem][0])\n",
    "treino_final = np.reshape(X,(8,25))  \n",
    "\n",
    "treino_rotulo = {}\n",
    "for d in [Y_treino,YI_treino]:\n",
    "    treino_rotulo.update(d)\n",
    "    \n",
    "treino_rotulo_final = []  \n",
    "for elem in treino_rotulo.keys():\n",
    "    treino_rotulo_final = np.append(treino_rotulo_final,treino_rotulo[elem])\n",
    "    \n",
    "### Conjunto de dados teste   \n",
    "teste_final = {}\n",
    "X = []\n",
    "\n",
    "for d in [A_teste,AI_teste]:\n",
    "    teste_final.update(d)    \n",
    "\n",
    "for elem in teste_final.keys():\n",
    "    X = np.append(X,teste_final[elem][0])\n",
    "teste_final = np.reshape(X,(4,25))  \n",
    "    \n",
    "teste_rotulo = {}\n",
    "for d in [Y_teste,YI_teste]:\n",
    "    teste_rotulo.update(d) \n",
    "\n",
    "teste_rotulo_final = []  \n",
    "for elem in teste_rotulo.keys():\n",
    "    teste_rotulo_final = np.append(teste_rotulo_final,teste_rotulo[elem])  "
   ]
  },
  {
   "cell_type": "code",
   "execution_count": 565,
   "metadata": {},
   "outputs": [
    {
     "data": {
      "text/plain": [
       "array([[-1., -1.,  1., -1., -1., -1.,  1., -1.,  1., -1., -1.,  1.,  1.,\n",
       "         1., -1.,  1., -1., -1., -1.,  1.,  1., -1., -1., -1.,  1.],\n",
       "       [ 1., -1.,  1., -1., -1., -1.,  1., -1.,  1., -1., -1.,  1.,  1.,\n",
       "         1., -1.,  1., -1., -1., -1.,  1.,  1., -1., -1., -1.,  1.],\n",
       "       [-1., -1.,  1., -1., -1., -1.,  1., -1.,  1., -1.,  1.,  1.,  1.,\n",
       "         1., -1.,  1., -1., -1., -1.,  1.,  1., -1., -1., -1.,  1.],\n",
       "       [-1., -1.,  1., -1.,  1., -1.,  1., -1.,  1., -1., -1.,  1.,  1.,\n",
       "         1., -1.,  1., -1., -1., -1.,  1.,  1., -1., -1., -1.,  1.],\n",
       "       [ 1., -1., -1., -1.,  1.,  1., -1., -1., -1.,  1., -1.,  1.,  1.,\n",
       "         1., -1., -1.,  1., -1.,  1., -1.,  1., -1.,  1., -1., -1.],\n",
       "       [ 1., -1.,  1., -1.,  1.,  1., -1., -1., -1.,  1., -1.,  1.,  1.,\n",
       "         1., -1., -1.,  1., -1.,  1., -1., -1., -1.,  1., -1., -1.],\n",
       "       [ 1., -1., -1., -1.,  1.,  1., -1., -1., -1.,  1., -1.,  1.,  1.,\n",
       "         1., -1., -1.,  1., -1.,  1., -1., -1.,  1.,  1., -1., -1.],\n",
       "       [ 1., -1., -1., -1.,  1.,  1., -1., -1., -1.,  1., -1.,  1.,  1.,\n",
       "         1., -1., -1.,  1., -1.,  1., -1., -1., -1.,  1., -1.,  1.]])"
      ]
     },
     "execution_count": 565,
     "metadata": {},
     "output_type": "execute_result"
    }
   ],
   "source": [
    "treino_final"
   ]
  },
  {
   "cell_type": "code",
   "execution_count": 566,
   "metadata": {},
   "outputs": [
    {
     "data": {
      "text/plain": [
       "array([ 1.,  1.,  1.,  1., -1., -1., -1., -1.])"
      ]
     },
     "execution_count": 566,
     "metadata": {},
     "output_type": "execute_result"
    }
   ],
   "source": [
    "treino_rotulo_final"
   ]
  },
  {
   "cell_type": "code",
   "execution_count": 567,
   "metadata": {},
   "outputs": [
    {
     "data": {
      "text/plain": [
       "array([[-1., -1.,  1., -1., -1., -1.,  1., -1.,  1., -1., -1.,  1.,  1.,\n",
       "         1., -1.,  1., -1., -1., -1.,  1.,  1., -1., -1., -1.,  1.],\n",
       "       [-1., -1.,  1., -1., -1., -1.,  1., -1.,  1., -1., -1.,  1.,  1.,\n",
       "         1., -1.,  1., -1., -1., -1.,  1.,  1., -1.,  1., -1.,  1.],\n",
       "       [ 1., -1., -1., -1.,  1.,  1., -1., -1., -1.,  1., -1.,  1.,  1.,\n",
       "         1., -1., -1.,  1., -1.,  1., -1., -1., -1.,  1., -1., -1.],\n",
       "       [ 1., -1., -1., -1.,  1.,  1., -1., -1., -1.,  1., -1.,  1.,  1.,\n",
       "         1., -1., -1.,  1., -1.,  1., -1., -1., -1.,  1., -1., -1.]])"
      ]
     },
     "execution_count": 567,
     "metadata": {},
     "output_type": "execute_result"
    }
   ],
   "source": [
    "teste_final"
   ]
  },
  {
   "cell_type": "code",
   "execution_count": 568,
   "metadata": {},
   "outputs": [
    {
     "data": {
      "text/plain": [
       "array([ 1.,  1., -1., -1.])"
      ]
     },
     "execution_count": 568,
     "metadata": {},
     "output_type": "execute_result"
    }
   ],
   "source": [
    "teste_rotulo_final"
   ]
  },
  {
   "cell_type": "markdown",
   "metadata": {},
   "source": [
    "### Inicialização dos pesos"
   ]
  },
  {
   "cell_type": "code",
   "execution_count": 512,
   "metadata": {},
   "outputs": [],
   "source": [
    "W = np.append(np.zeros(treino_final[0].shape ),0)"
   ]
  },
  {
   "cell_type": "code",
   "execution_count": 513,
   "metadata": {},
   "outputs": [
    {
     "data": {
      "text/plain": [
       "array([0., 0., 0., 0., 0., 0., 0., 0., 0., 0., 0., 0., 0., 0., 0., 0., 0.,\n",
       "       0., 0., 0., 0., 0., 0., 0., 0., 0.])"
      ]
     },
     "execution_count": 513,
     "metadata": {},
     "output_type": "execute_result"
    }
   ],
   "source": [
    "W"
   ]
  },
  {
   "cell_type": "markdown",
   "metadata": {},
   "source": [
    "### Implementação ADALINE"
   ]
  },
  {
   "cell_type": "code",
   "execution_count": 541,
   "metadata": {},
   "outputs": [],
   "source": [
    "def fit(X, y,eta=0.01,n_iter=500):\n",
    "    \n",
    "    cost = []\n",
    "    for i in range(n_iter):\n",
    "        output = np.dot(X, W[1:]) + W[0]\n",
    "        errors = (y - output)\n",
    "        W[1:] += eta * X.T.dot(errors)\n",
    "        W[0]  += eta * errors.sum()\n",
    "        cost = np.append(cost,(errors**2).sum() / 2.0)\n",
    "        \n",
    "    return output, cost  "
   ]
  },
  {
   "cell_type": "code",
   "execution_count": 542,
   "metadata": {},
   "outputs": [],
   "source": [
    "output, cost = fit(X=treino_final, y=treino_rotulo_final,eta=0.01,n_iter=50)"
   ]
  },
  {
   "cell_type": "code",
   "execution_count": 562,
   "metadata": {},
   "outputs": [
    {
     "data": {
      "text/plain": [
       "array([ 1.,  1.,  1.,  1., -1., -1., -1., -1.])"
      ]
     },
     "execution_count": 562,
     "metadata": {},
     "output_type": "execute_result"
    }
   ],
   "source": [
    "treino_rotulo_final"
   ]
  },
  {
   "cell_type": "code",
   "execution_count": 543,
   "metadata": {},
   "outputs": [
    {
     "data": {
      "text/plain": [
       "array([ 1.00928346,  0.99656062,  0.99710504,  0.99656062, -0.9997282 ,\n",
       "       -0.9997282 , -1.00048649, -0.9997282 ])"
      ]
     },
     "execution_count": 543,
     "metadata": {},
     "output_type": "execute_result"
    }
   ],
   "source": [
    "output"
   ]
  },
  {
   "cell_type": "code",
   "execution_count": 532,
   "metadata": {},
   "outputs": [],
   "source": [
    "def predict(X):\n",
    "    predicao = np.where(np.dot(X, W[1:]) + W[0] >= 0.0, 1, -1)\n",
    "    return predicao"
   ]
  },
  {
   "cell_type": "code",
   "execution_count": 533,
   "metadata": {},
   "outputs": [],
   "source": [
    "predicao = predict(X=teste_final)"
   ]
  },
  {
   "cell_type": "code",
   "execution_count": 564,
   "metadata": {},
   "outputs": [
    {
     "data": {
      "text/plain": [
       "array([ 1.,  1., -1., -1.])"
      ]
     },
     "execution_count": 564,
     "metadata": {},
     "output_type": "execute_result"
    }
   ],
   "source": [
    "teste_rotulo_final"
   ]
  },
  {
   "cell_type": "code",
   "execution_count": 534,
   "metadata": {},
   "outputs": [
    {
     "data": {
      "text/plain": [
       "array([ 1,  1, -1, -1])"
      ]
     },
     "execution_count": 534,
     "metadata": {},
     "output_type": "execute_result"
    }
   ],
   "source": [
    "predicao"
   ]
  },
  {
   "cell_type": "raw",
   "metadata": {},
   "source": [
    "### Resultados: ADALINE foi capaz de acertar todos os rótulos do conjunto de dados de teste!"
   ]
  },
  {
   "cell_type": "markdown",
   "metadata": {},
   "source": [
    "##### Visualização do erro em função das épocas de treinamento"
   ]
  },
  {
   "cell_type": "code",
   "execution_count": 571,
   "metadata": {},
   "outputs": [
    {
     "data": {
      "text/plain": [
       "(0, 0.00016)"
      ]
     },
     "execution_count": 571,
     "metadata": {},
     "output_type": "execute_result"
    },
    {
     "data": {
      "image/png": "[encoded data removed]",
      "text/plain": [
       "<Figure size 432x288 with 1 Axes>"
      ]
     },
     "metadata": {
      "needs_background": "light"
     },
     "output_type": "display_data"
    }
   ],
   "source": [
    "x= range(1, len(cost) + 1)\n",
    "y= cost\n",
    "plt.plot(x,y)\n",
    "plt.xlabel('Épocas')\n",
    "plt.ylabel('Erro')\n",
    "plt.title('Adaline - Learning rate 0.01')\n",
    "plt.xlim(0,len(x))\n",
    "plt.ylim(0,0.00016)"
   ]
  },
  {
   "cell_type": "markdown",
   "metadata": {},
   "source": [
    "### Referências\n",
    "\n",
    "###### Bibliografia do curso\n",
    "###### https://www.machinelearningplus.com/plots/matplotlib-line-plot/\n",
    "###### https://www.bogotobogo.com/python/scikit-learn/Single-Layer-Neural-Network-Adaptive-Linear-Neuron.php\n",
    "###### https://wizardforcel.gitbooks.io/deep-learning-keras-tensorflow/content/1.1.1%20Perceptron%20and%20Adaline.html"
   ]
  },
  {
   "cell_type": "code",
   "execution_count": null,
   "metadata": {},
   "outputs": [],
   "source": []
  }
 ],
 "metadata": {
  "kernelspec": {
   "display_name": "Python 3",
   "language": "python",
   "name": "python3"
  },
  "language_info": {
   "codemirror_mode": {
    "name": "ipython",
    "version": 3
   },
   "file_extension": ".py",
   "mimetype": "text/x-python",
   "name": "python",
   "nbconvert_exporter": "python",
   "pygments_lexer": "ipython3",
   "version": "3.7.8"
  }
 },
 "nbformat": 4,
 "nbformat_minor": 4
}
